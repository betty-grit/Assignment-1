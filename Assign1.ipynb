{
  "nbformat": 4,
  "nbformat_minor": 0,
  "metadata": {
    "colab": {
      "name": "Assign1.ipynb",
      "provenance": [],
      "collapsed_sections": [],
      "authorship_tag": "ABX9TyNTEqV47w8g93Y2/Wiry1Ou",
      "include_colab_link": true
    },
    "kernelspec": {
      "name": "python3",
      "display_name": "Python 3"
    },
    "language_info": {
      "name": "python"
    }
  },
  "cells": [
    {
      "cell_type": "markdown",
      "metadata": {
        "id": "view-in-github",
        "colab_type": "text"
      },
      "source": [
        "<a href=\"https://colab.research.google.com/github/betty-grit/Assignment-1/blob/main/Assign1.ipynb\" target=\"_parent\"><img src=\"https://colab.research.google.com/assets/colab-badge.svg\" alt=\"Open In Colab\"/></a>"
      ]
    },
    {
      "cell_type": "code",
      "metadata": {
        "id": "fSzA7sDJ5RCG"
      },
      "source": [
        ""
      ],
      "execution_count": null,
      "outputs": []
    },
    {
      "cell_type": "markdown",
      "metadata": {
        "id": "_RGsolMP28Fg"
      },
      "source": [
        "\n",
        "Python is a general purpose programming language with a simplified syntax. Due to its ease of learning and usage, python codes can be easily written and executed much faster than other programming languages.\n",
        "Python Exists for the following reasons;\n",
        "\n",
        "1.Web and mobile app development\n",
        "2.Data analytics and visualisation\n",
        "3.AI and machine learning"
      ]
    },
    {
      "cell_type": "markdown",
      "metadata": {
        "id": "LWXr7mAe-c9f"
      },
      "source": [
        "palindrome"
      ]
    },
    {
      "cell_type": "code",
      "metadata": {
        "colab": {
          "base_uri": "https://localhost:8080/"
        },
        "id": "xrjEHYP4Df_3",
        "outputId": "cfa7f880-b8b0-40d7-ba98-d467c9d5e501"
      },
      "source": [
        " w=input(\"enter a word: \")\n",
        "\n",
        "def reverse(x):\n",
        "  return x[::-1]\n",
        "  #slicing\n",
        "\n",
        "if w==reverse(w):\n",
        "\n",
        "\n",
        "  print(\"yes the word is a palindrome!\")\n",
        "else:\n",
        "  print(\"No it is not a palindrome , try another word!\")"
      ],
      "execution_count": null,
      "outputs": [
        {
          "output_type": "stream",
          "text": [
            "enter a word: 121\n",
            "yes the word is a palindrome!\n"
          ],
          "name": "stdout"
        }
      ]
    },
    {
      "cell_type": "markdown",
      "metadata": {
        "id": "5HZDxsiC5Wvt"
      },
      "source": [
        ""
      ]
    },
    {
      "cell_type": "markdown",
      "metadata": {
        "id": "XHxbmruzEDD-"
      },
      "source": [
        "Madlips Game\n",
        "\n"
      ]
    },
    {
      "cell_type": "code",
      "metadata": {
        "colab": {
          "base_uri": "https://localhost:8080/"
        },
        "id": "_N4FeFd_EIef",
        "outputId": "424d6e12-db47-4903-ce39-0ec2fd3d65e7"
      },
      "source": [
        "alphabet=input(\"enter an alphabet of choice: \")\n",
        "subject=input(\"enter a subject in school: \")\n",
        "show=input(\"enter your favorite show on tv: \")\n",
        "hours=input(\" enter an amount of hours: \")\n",
        "weekday=input(\"enter a weekday: \")\n",
        "\n",
        "print(\"you got a \"+ alphabet + \" in \"+ subject + \" because you keep watching \"+ show + hours + \"hours\" +\" every \"+ weekday)\n"
      ],
      "execution_count": null,
      "outputs": [
        {
          "output_type": "stream",
          "text": [
            "enter an alphabet of choice: g\n",
            "enter a subject in school: bcom\n",
            "enter your favorite show on tv: daterush\n",
            "enter an amount of hours: 14\n",
            "enter a weekday: fridays\n",
            "you got a g in bcom because you keep watching daterush14hours every fridays\n"
          ],
          "name": "stdout"
        }
      ]
    },
    {
      "cell_type": "code",
      "metadata": {
        "id": "jAS93tojIVem"
      },
      "source": [
        "\n",
        "\n"
      ],
      "execution_count": null,
      "outputs": []
    },
    {
      "cell_type": "markdown",
      "metadata": {
        "id": "DRlOZuWgIcwL"
      },
      "source": [
        "Calculator\n"
      ]
    },
    {
      "cell_type": "code",
      "metadata": {
        "colab": {
          "base_uri": "https://localhost:8080/"
        },
        "id": "oOyOWGRlIfio",
        "outputId": "cdbd9d2e-be93-44e1-b46d-a52a2b1ac96c"
      },
      "source": [
        "print(\"select an operation to perform: \")\n",
        "print(\"1 to add\")\n",
        "print(\"2 to subtract\")\n",
        "print(\"3 to multiply\")\n",
        "print(\"4 to divide\")\n",
        "\n",
        "operation=input()\n",
        "if operation==\"1\":\n",
        "  num1=input(\"enter first number: \")\n",
        "  num2=input(\"enter second number: \")\n",
        "  print(\"ans: \" + str(float(num1)+float(num2)))\n",
        "elif operation==\"2\":\n",
        "  num1=input(\"enter first number: \")\n",
        "  num2=input(\"enter second number: \")\n",
        "  print(\"ans: \" + str(float(num1)-float(num2)))\n",
        "elif operation==\"3\":\n",
        "  num1=input(\"enter first number: \")\n",
        "  num2=input(\"enter second number: \")\n",
        "  print(\"ans: \" + str(float(num1)*float(num2)))\n",
        "elif operation==\"4\":\n",
        "  num1=input(\"enter first number: \")\n",
        "  num2=input(\"enter second number: \")\n",
        "  print(\"ans: \" + str(float(num1)/float(num2)))\n",
        "else:\n",
        "  print(\"you have entered an invalid operand enter +,-,* or /\")\n",
        "  \n"
      ],
      "execution_count": null,
      "outputs": [
        {
          "output_type": "stream",
          "text": [
            "select an operation to perform: \n",
            "1 to add\n",
            "2 to subtract\n",
            "3 to multiply\n",
            "4 to divide\n",
            "1\n",
            "enter first number: 7\n",
            "enter second number: 8\n",
            "ans: 15.0\n"
          ],
          "name": "stdout"
        }
      ]
    },
    {
      "cell_type": "code",
      "metadata": {
        "id": "fs8HRyt4Iaq3"
      },
      "source": [
        ""
      ],
      "execution_count": null,
      "outputs": []
    },
    {
      "cell_type": "markdown",
      "metadata": {
        "id": "bnC_cLqgIUsz"
      },
      "source": [
        ""
      ]
    }
  ]
}